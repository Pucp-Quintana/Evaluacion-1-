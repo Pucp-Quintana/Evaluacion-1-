{
 "cells": [
  {
   "cell_type": "code",
   "execution_count": 1,
   "id": "5165e518",
   "metadata": {},
   "outputs": [],
   "source": [
    "#Links de las datas\n",
    "#Emisiones de (CO2) = https://edgar.jrc.ec.europa.eu/report_2022#emissions_table\n",
    "#Temperatura mundial = https://climatedata.imf.org/pages/climatechange-data\n",
    "#Tasa de mortalidad materna = https://datos.bancomundial.org/indicador/SH.STA.MMRT"
   ]
  },
  {
   "cell_type": "code",
   "execution_count": 13,
   "id": "1dd1b2a7",
   "metadata": {},
   "outputs": [
    {
     "ename": "SyntaxError",
     "evalue": "invalid syntax. Perhaps you forgot a comma? (4267997321.py, line 8)",
     "output_type": "error",
     "traceback": [
      "\u001b[1;36m  Cell \u001b[1;32mIn[13], line 8\u001b[1;36m\u001b[0m\n\u001b[1;33m    Temp = pd.read_csv(os.path.join(\"temperature.csv\")\u001b[0m\n\u001b[1;37m                       ^\u001b[0m\n\u001b[1;31mSyntaxError\u001b[0m\u001b[1;31m:\u001b[0m invalid syntax. Perhaps you forgot a comma?\n"
     ]
    }
   ],
   "source": [
    "#Subir la data\n",
    "#Emisiones de CO2\n",
    "import os\n",
    "import pandas as pd \n",
    "from IPython.display import IFrame  \n",
    "emisiones= \"https://edgar.jrc.ec.europa.eu/report_2022#emissions_table\"\n",
    "#Temperatura mundial\n",
    "Temp = pd.read_csv(os.path.join(\"temperature.csv\")\n",
    "#Tasa de mortalidad materna \n",
    "TM = pd.read_csv(os.path.join(\"TM.csv\")"
   ]
  },
  {
   "cell_type": "code",
   "execution_count": null,
   "id": "932e556d",
   "metadata": {},
   "outputs": [],
   "source": []
  }
 ],
 "metadata": {
  "kernelspec": {
   "display_name": "Python 3 (ipykernel)",
   "language": "python",
   "name": "python3"
  },
  "language_info": {
   "codemirror_mode": {
    "name": "ipython",
    "version": 3
   },
   "file_extension": ".py",
   "mimetype": "text/x-python",
   "name": "python",
   "nbconvert_exporter": "python",
   "pygments_lexer": "ipython3",
   "version": "3.11.4"
  }
 },
 "nbformat": 4,
 "nbformat_minor": 5
}
