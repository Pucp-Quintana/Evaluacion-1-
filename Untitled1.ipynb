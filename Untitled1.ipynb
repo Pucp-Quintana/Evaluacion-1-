{
 "cells": [
  {
   "cell_type": "code",
   "execution_count": 1,
   "id": "594c8a7d",
   "metadata": {},
   "outputs": [],
   "source": [
    "#Links de las datas\n",
    "#Emisiones de (CO2) = https://edgar.jrc.ec.europa.eu/report_2022#emissions_table\n",
    "#Temperatura mundial = https://climatedata.imf.org/pages/climatechange-data\n",
    "#Tasa de mortalidad materna = https://datos.bancomundial.org/indicador/SH.STA.MMRT"
   ]
  },
  {
   "cell_type": "code",
   "execution_count": 2,
   "id": "26b37c2c",
   "metadata": {},
   "outputs": [],
   "source": [
    "#1 Subir la data y limpiar\n",
    "#Emisiones de CO2\n",
    "from IPython.display import IFrame  \n",
    "emisiones= \"https://edgar.jrc.ec.europa.eu/report_2022#emissions_table\"\n",
    "#Temperatura mundial\n",
    "Temperatura = \n",
    "#Tasa de mortalidad materna \n"
   ]
  },
  {
   "cell_type": "code",
   "execution_count": null,
   "id": "a313ec0a",
   "metadata": {},
   "outputs": [],
   "source": []
  }
 ],
 "metadata": {
  "kernelspec": {
   "display_name": "Python 3 (ipykernel)",
   "language": "python",
   "name": "python3"
  },
  "language_info": {
   "codemirror_mode": {
    "name": "ipython",
    "version": 3
   },
   "file_extension": ".py",
   "mimetype": "text/x-python",
   "name": "python",
   "nbconvert_exporter": "python",
   "pygments_lexer": "ipython3",
   "version": "3.11.4"
  }
 },
 "nbformat": 4,
 "nbformat_minor": 5
}
